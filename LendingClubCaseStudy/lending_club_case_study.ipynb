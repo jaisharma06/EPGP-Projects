{
 "cells": [
  {
   "cell_type": "markdown",
   "metadata": {},
   "source": [
    "Steps for EDA\n",
    "----\n",
    "----\n",
    "1. Cleaning the dataset\n",
    "2. Univariate Analysis\n",
    "3. Segmented Univariate Analysis\n",
    "4. Bivariate Analysis\n",
    "5. Mutlivariate Analysis\n"
   ]
  },
  {
   "cell_type": "code",
   "execution_count": 109,
   "metadata": {},
   "outputs": [
    {
     "name": "stdout",
     "output_type": "stream",
     "text": [
      "(39717, 111)\n",
      "<class 'pandas.core.frame.DataFrame'>\n",
      "RangeIndex: 39717 entries, 0 to 39716\n",
      "Columns: 111 entries, id to total_il_high_credit_limit\n",
      "dtypes: float64(74), int64(13), object(24)\n",
      "memory usage: 33.6+ MB\n",
      "None\n",
      "id                              int64\n",
      "member_id                       int64\n",
      "loan_amnt                       int64\n",
      "funded_amnt                     int64\n",
      "funded_amnt_inv               float64\n",
      "                               ...   \n",
      "tax_liens                     float64\n",
      "tot_hi_cred_lim               float64\n",
      "total_bal_ex_mort             float64\n",
      "total_bc_limit                float64\n",
      "total_il_high_credit_limit    float64\n",
      "Length: 111, dtype: object\n"
     ]
    }
   ],
   "source": [
    "#import required libraries\n",
    "import numpy as np\n",
    "import pandas as pd\n",
    "import seaborn as sns\n",
    "import matplotlib.pyplot as plt\n",
    "import warnings\n",
    "\n",
    "#suppress warnings thrown by the libraries imported\n",
    "warnings.filterwarnings('ignore')\n",
    "\n",
    "loan = pd.read_csv('loan.csv')\n",
    "#Print dataframe shape to get the idea of rows and columns\n",
    "#Print the information of the loan dataframe\n",
    "#Print the data types of the loan dataframe\n",
    "print(loan.shape)\n",
    "print(loan.info())\n",
    "print(loan.dtypes)"
   ]
  },
  {
   "cell_type": "code",
   "execution_count": 110,
   "metadata": {},
   "outputs": [
    {
     "name": "stdout",
     "output_type": "stream",
     "text": [
      "0\n",
      "54\n"
     ]
    }
   ],
   "source": [
    "#check number of empty rows, axis = 1 for rows\n",
    "print(loan.isnull().all(axis = 1).sum())\n",
    "#check number of empty columns, axis = 0 for columns\n",
    "print(loan.isnull().all(axis = 0).sum())\n",
    "\n",
    "#check number of columns with all null values\n",
    "loan.isnull().sum()\n",
    "\n",
    "#remove all the columns where most of the values are null\n",
    "#this will be done for the indices from 53 inclusive to 105 exclusive\n",
    "loan.drop(loan.iloc[:, 53:105], inplace = True, axis = 1) \n",
    "\n",
    "#remove other columns which are not required or mostly contain null values\n",
    "#this will be done by column name\n",
    "columns_to_drop = ['desc', 'mths_since_last_delinq', 'mths_since_last_record','next_pymnt_d','tot_hi_cred_lim']\n",
    "columns_to_drop.extend(['mths_since_last_major_derog','total_bal_ex_mort','total_bc_limit','total_il_high_credit_limit'])\n",
    "columns_to_drop.extend(['member_id','url','emp_title','zip_code','tax_liens'])\n",
    "loan.drop(labels=columns_to_drop, inplace = True, axis = 1)"
   ]
  },
  {
   "cell_type": "code",
   "execution_count": 111,
   "metadata": {},
   "outputs": [
    {
     "name": "stdout",
     "output_type": "stream",
     "text": [
      "(39717, 45)\n",
      "<class 'pandas.core.frame.DataFrame'>\n",
      "RangeIndex: 39717 entries, 0 to 39716\n",
      "Data columns (total 45 columns):\n",
      " #   Column                      Non-Null Count  Dtype  \n",
      "---  ------                      --------------  -----  \n",
      " 0   id                          39717 non-null  int64  \n",
      " 1   loan_amnt                   39717 non-null  int64  \n",
      " 2   funded_amnt                 39717 non-null  int64  \n",
      " 3   funded_amnt_inv             39717 non-null  float64\n",
      " 4   term                        39717 non-null  object \n",
      " 5   int_rate                    39717 non-null  float64\n",
      " 6   installment                 39717 non-null  float64\n",
      " 7   grade                       39717 non-null  object \n",
      " 8   sub_grade                   39717 non-null  object \n",
      " 9   emp_length                  39717 non-null  int32  \n",
      " 10  home_ownership              39717 non-null  object \n",
      " 11  annual_inc                  39717 non-null  float64\n",
      " 12  verification_status         39717 non-null  object \n",
      " 13  issue_d                     39717 non-null  object \n",
      " 14  loan_status                 39717 non-null  object \n",
      " 15  pymnt_plan                  39717 non-null  object \n",
      " 16  purpose                     39717 non-null  object \n",
      " 17  title                       39706 non-null  object \n",
      " 18  addr_state                  39717 non-null  object \n",
      " 19  dti                         39717 non-null  float64\n",
      " 20  delinq_2yrs                 39717 non-null  int64  \n",
      " 21  earliest_cr_line            39717 non-null  object \n",
      " 22  inq_last_6mths              39717 non-null  int64  \n",
      " 23  open_acc                    39717 non-null  int64  \n",
      " 24  pub_rec                     39717 non-null  int64  \n",
      " 25  revol_bal                   39717 non-null  int64  \n",
      " 26  revol_util                  39667 non-null  float64\n",
      " 27  total_acc                   39717 non-null  int64  \n",
      " 28  initial_list_status         39717 non-null  object \n",
      " 29  out_prncp                   39717 non-null  float64\n",
      " 30  out_prncp_inv               39717 non-null  float64\n",
      " 31  total_pymnt                 39717 non-null  float64\n",
      " 32  total_pymnt_inv             39717 non-null  float64\n",
      " 33  total_rec_prncp             39717 non-null  float64\n",
      " 34  total_rec_int               39717 non-null  float64\n",
      " 35  total_rec_late_fee          39717 non-null  float64\n",
      " 36  recoveries                  39717 non-null  float64\n",
      " 37  collection_recovery_fee     39717 non-null  float64\n",
      " 38  last_pymnt_d                39646 non-null  object \n",
      " 39  last_pymnt_amnt             39717 non-null  float64\n",
      " 40  last_credit_pull_d          39715 non-null  object \n",
      " 41  collections_12_mths_ex_med  39661 non-null  float64\n",
      " 42  policy_code                 39717 non-null  int64  \n",
      " 43  application_type            39717 non-null  object \n",
      " 44  pub_rec_bankruptcies        39020 non-null  float64\n",
      "dtypes: float64(18), int32(1), int64(10), object(16)\n",
      "memory usage: 13.5+ MB\n",
      "None\n"
     ]
    }
   ],
   "source": [
    "import re #import regex\n",
    "\n",
    "#Print dataframe shape to get the idea of rows and columns\n",
    "#Print the information of the loan dataframe\n",
    "print(loan.shape)\n",
    "\n",
    "#clean up\n",
    "#remove % symbol from interest rate and revolving line utilization rate\n",
    "loan['int_rate'] = loan['int_rate'].str.rstrip('%').astype('float')\n",
    "loan['revol_util'] = loan['revol_util'].str.rstrip('%').astype('float')\n",
    "#extract digit from employment length\n",
    "loan['emp_length'].fillna('0', inplace=True)\n",
    "loan['emp_length'] = loan['emp_length'].str.extract('(\\d+)').astype('int')\n",
    "print(loan.info())"
   ]
  },
  {
   "cell_type": "code",
   "execution_count": 112,
   "metadata": {},
   "outputs": [
    {
     "name": "stdout",
     "output_type": "stream",
     "text": [
      "697\n"
     ]
    }
   ],
   "source": [
    "#clean up bankruptcies\n",
    "#replace null/na values with 'unknown'\n",
    "print(loan['pub_rec_bankruptcies'].isnull().sum())\n",
    "loan['pub_rec_bankruptcies'].fillna('unknown', inplace=True)"
   ]
  },
  {
   "cell_type": "code",
   "execution_count": 150,
   "metadata": {},
   "outputs": [
    {
     "name": "stdout",
     "output_type": "stream",
     "text": [
      "loan_status\n",
      "Fully Paid     82.96\n",
      "Charged Off    14.17\n",
      "Current         2.87\n",
      "Name: count, dtype: float64\n"
     ]
    }
   ],
   "source": [
    "#Univariate Analysis\n",
    "#analysing status of loan as it's one of the most important variables\n",
    "print(round((loan['loan_status'].value_counts() * 100) / len(loan), 2))"
   ]
  }
 ],
 "metadata": {
  "kernelspec": {
   "display_name": "Python 3",
   "language": "python",
   "name": "python3"
  },
  "language_info": {
   "codemirror_mode": {
    "name": "ipython",
    "version": 3
   },
   "file_extension": ".py",
   "mimetype": "text/x-python",
   "name": "python",
   "nbconvert_exporter": "python",
   "pygments_lexer": "ipython3",
   "version": "3.11.0"
  },
  "orig_nbformat": 4
 },
 "nbformat": 4,
 "nbformat_minor": 2
}
